{
 "cells": [
  {
   "cell_type": "markdown",
   "id": "f73046ff",
   "metadata": {},
   "source": [
    "# REST Inference"
   ]
  },
  {
   "cell_type": "markdown",
   "id": "2e7eb303-2ded-41b5-91db-8b8a8860d2ac",
   "metadata": {},
   "source": [
    "## Setup\n",
    "\n",
    "Verify that following variable settings match your deployed model's resource name and rest URL. The following code assumes that the kube service is in the same namespace, but you could refer to it in full with the namespace, for example: `http://modelmesh-serving.project-name.svc.cluster.local:8008/v2/models/fraud/infer`"
   ]
  },
  {
   "cell_type": "code",
   "execution_count": 40,
   "id": "4fb449dd-1607-4448-bfe4-897f68ef8f3f",
   "metadata": {
    "tags": []
   },
   "outputs": [],
   "source": [
    "infer_url = \"https://caloricexp-neeraj-jain-dev.apps.sandbox-m3.1530.p1.openshiftapps.com/v2/models/caloricexp/infer\""
   ]
  },
  {
   "cell_type": "markdown",
   "id": "c5835f05-7fe2-4d51-bed5-3aa9f2b380fe",
   "metadata": {},
   "source": [
    "## Request Function\n",
    "\n",
    "Build and submit the REST request. \n",
    "\n",
    "Note: You submit the data in the same format that you used for an ONNX inference."
   ]
  },
  {
   "cell_type": "code",
   "execution_count": 47,
   "id": "67c1d001-ff99-414a-95d4-5729d5849298",
   "metadata": {
    "tags": []
   },
   "outputs": [],
   "source": [
    "import requests\n",
    "\n",
    "def rest_request(data):\n",
    "    json_data = {\n",
    "        \"inputs\": [\n",
    "            {\n",
    "                \"name\": \"keras_tensor\",\n",
    "                \"shape\": [1, 35],\n",
    "                \"datatype\": \"FP32\",\n",
    "                \"data\": data\n",
    "            }\n",
    "        ]\n",
    "    }\n",
    "\n",
    "    response = requests.post(infer_url, json=json_data)\n",
    "    response_dict = response.json()\n",
    "    return response_dict['outputs'][0]['data']"
   ]
  },
  {
   "cell_type": "code",
   "execution_count": 42,
   "id": "8cdbe0b1",
   "metadata": {
    "tags": []
   },
   "outputs": [],
   "source": [
    "#Load the scaler\n",
    "import pickle\n",
    "with open('artifact/column_transformer.pkl', 'rb') as handle:\n",
    "    ct = pickle.load(handle)"
   ]
  },
  {
   "cell_type": "code",
   "execution_count": 43,
   "id": "37c697fe-af9f-4b84-a4b9-bd60b10e77df",
   "metadata": {
    "tags": []
   },
   "outputs": [
    {
     "data": {
      "text/html": [
       "<div>\n",
       "<style scoped>\n",
       "    .dataframe tbody tr th:only-of-type {\n",
       "        vertical-align: middle;\n",
       "    }\n",
       "\n",
       "    .dataframe tbody tr th {\n",
       "        vertical-align: top;\n",
       "    }\n",
       "\n",
       "    .dataframe thead th {\n",
       "        text-align: right;\n",
       "    }\n",
       "</style>\n",
       "<table border=\"1\" class=\"dataframe\">\n",
       "  <thead>\n",
       "    <tr style=\"text-align: right;\">\n",
       "      <th></th>\n",
       "      <th>day</th>\n",
       "      <th>age</th>\n",
       "      <th>gender</th>\n",
       "      <th>weight</th>\n",
       "      <th>height_in_cms</th>\n",
       "      <th>digestive_disorder</th>\n",
       "      <th>type_of_workout</th>\n",
       "      <th>additional_activity</th>\n",
       "      <th>total_calories_burned</th>\n",
       "      <th>body_temperature</th>\n",
       "      <th>workout_intensity</th>\n",
       "      <th>followed_diet_plan</th>\n",
       "      <th>taking_supplements</th>\n",
       "      <th>fitness_goal</th>\n",
       "      <th>target_weight</th>\n",
       "      <th>target_time_in_months</th>\n",
       "      <th>actual_calorie_intake_in_kcal_per_day</th>\n",
       "      <th>actual_carb_intake_in_gms</th>\n",
       "      <th>actual_protein_intake_in_gms</th>\n",
       "      <th>actual_fat_intake_in_gms</th>\n",
       "    </tr>\n",
       "  </thead>\n",
       "  <tbody>\n",
       "    <tr>\n",
       "      <th>0</th>\n",
       "      <td>Friday</td>\n",
       "      <td>42</td>\n",
       "      <td>Male</td>\n",
       "      <td>77</td>\n",
       "      <td>155</td>\n",
       "      <td>No</td>\n",
       "      <td>Light Weight Training</td>\n",
       "      <td>Cardio</td>\n",
       "      <td>802</td>\n",
       "      <td>38</td>\n",
       "      <td>Medium</td>\n",
       "      <td>Yes</td>\n",
       "      <td>No</td>\n",
       "      <td>Wellness</td>\n",
       "      <td>0</td>\n",
       "      <td>0</td>\n",
       "      <td>2320</td>\n",
       "      <td>290</td>\n",
       "      <td>116</td>\n",
       "      <td>77</td>\n",
       "    </tr>\n",
       "    <tr>\n",
       "      <th>1</th>\n",
       "      <td>Saturday</td>\n",
       "      <td>38</td>\n",
       "      <td>Male</td>\n",
       "      <td>41</td>\n",
       "      <td>174</td>\n",
       "      <td>No</td>\n",
       "      <td>Calesthenics</td>\n",
       "      <td>Aerobics</td>\n",
       "      <td>901</td>\n",
       "      <td>38</td>\n",
       "      <td>Low</td>\n",
       "      <td>No</td>\n",
       "      <td>No</td>\n",
       "      <td>Weight Gain</td>\n",
       "      <td>39</td>\n",
       "      <td>13</td>\n",
       "      <td>1477</td>\n",
       "      <td>184</td>\n",
       "      <td>73</td>\n",
       "      <td>49</td>\n",
       "    </tr>\n",
       "    <tr>\n",
       "      <th>2</th>\n",
       "      <td>Friday</td>\n",
       "      <td>48</td>\n",
       "      <td>Male</td>\n",
       "      <td>66</td>\n",
       "      <td>147</td>\n",
       "      <td>No</td>\n",
       "      <td>Calesthenics</td>\n",
       "      <td>Aerobics</td>\n",
       "      <td>734</td>\n",
       "      <td>37</td>\n",
       "      <td>Low</td>\n",
       "      <td>No</td>\n",
       "      <td>No</td>\n",
       "      <td>Wellness</td>\n",
       "      <td>0</td>\n",
       "      <td>0</td>\n",
       "      <td>1682</td>\n",
       "      <td>210</td>\n",
       "      <td>84</td>\n",
       "      <td>56</td>\n",
       "    </tr>\n",
       "    <tr>\n",
       "      <th>3</th>\n",
       "      <td>Wednesday</td>\n",
       "      <td>49</td>\n",
       "      <td>Male</td>\n",
       "      <td>85</td>\n",
       "      <td>179</td>\n",
       "      <td>Yes</td>\n",
       "      <td>Light Weight Training</td>\n",
       "      <td>Yoga</td>\n",
       "      <td>351</td>\n",
       "      <td>39</td>\n",
       "      <td>Medium</td>\n",
       "      <td>Yes</td>\n",
       "      <td>No</td>\n",
       "      <td>Weight Loss</td>\n",
       "      <td>5</td>\n",
       "      <td>1</td>\n",
       "      <td>2095</td>\n",
       "      <td>261</td>\n",
       "      <td>104</td>\n",
       "      <td>69</td>\n",
       "    </tr>\n",
       "    <tr>\n",
       "      <th>4</th>\n",
       "      <td>Wednesday</td>\n",
       "      <td>42</td>\n",
       "      <td>Male</td>\n",
       "      <td>84</td>\n",
       "      <td>157</td>\n",
       "      <td>No</td>\n",
       "      <td>Calesthenics</td>\n",
       "      <td>Cardio</td>\n",
       "      <td>710</td>\n",
       "      <td>39</td>\n",
       "      <td>Low</td>\n",
       "      <td>No</td>\n",
       "      <td>No</td>\n",
       "      <td>Weight Loss</td>\n",
       "      <td>4</td>\n",
       "      <td>1</td>\n",
       "      <td>1860</td>\n",
       "      <td>232</td>\n",
       "      <td>93</td>\n",
       "      <td>62</td>\n",
       "    </tr>\n",
       "  </tbody>\n",
       "</table>\n",
       "</div>"
      ],
      "text/plain": [
       "         day  age gender  weight  height_in_cms digestive_disorder  \\\n",
       "0     Friday   42   Male      77            155                 No   \n",
       "1   Saturday   38   Male      41            174                 No   \n",
       "2     Friday   48   Male      66            147                 No   \n",
       "3  Wednesday   49   Male      85            179                Yes   \n",
       "4  Wednesday   42   Male      84            157                 No   \n",
       "\n",
       "         type_of_workout additional_activity  total_calories_burned  \\\n",
       "0  Light Weight Training              Cardio                    802   \n",
       "1           Calesthenics            Aerobics                    901   \n",
       "2           Calesthenics            Aerobics                    734   \n",
       "3  Light Weight Training                Yoga                    351   \n",
       "4           Calesthenics              Cardio                    710   \n",
       "\n",
       "   body_temperature workout_intensity followed_diet_plan taking_supplements  \\\n",
       "0                38            Medium                Yes                 No   \n",
       "1                38               Low                 No                 No   \n",
       "2                37               Low                 No                 No   \n",
       "3                39            Medium                Yes                 No   \n",
       "4                39               Low                 No                 No   \n",
       "\n",
       "  fitness_goal  target_weight  target_time_in_months  \\\n",
       "0     Wellness              0                      0   \n",
       "1  Weight Gain             39                     13   \n",
       "2     Wellness              0                      0   \n",
       "3  Weight Loss              5                      1   \n",
       "4  Weight Loss              4                      1   \n",
       "\n",
       "   actual_calorie_intake_in_kcal_per_day  actual_carb_intake_in_gms  \\\n",
       "0                                   2320                        290   \n",
       "1                                   1477                        184   \n",
       "2                                   1682                        210   \n",
       "3                                   2095                        261   \n",
       "4                                   1860                        232   \n",
       "\n",
       "   actual_protein_intake_in_gms  actual_fat_intake_in_gms  \n",
       "0                           116                        77  \n",
       "1                            73                        49  \n",
       "2                            84                        56  \n",
       "3                           104                        69  \n",
       "4                            93                        62  "
      ]
     },
     "execution_count": 43,
     "metadata": {},
     "output_type": "execute_result"
    }
   ],
   "source": [
    "import pandas as pd\n",
    "\n",
    "# Define your input data as a list\n",
    "data = pd.read_csv('X_test.csv')\n",
    "data"
   ]
  },
  {
   "cell_type": "code",
   "execution_count": 44,
   "id": "3053a646-38d1-4c4a-9b4b-b68c34f538a9",
   "metadata": {
    "tags": []
   },
   "outputs": [
    {
     "data": {
      "text/plain": [
       "array([[ 0.        ,  0.        ,  0.        ,  0.        ,  0.        ,\n",
       "         1.        ,  1.        ,  0.        ,  0.        ,  0.        ,\n",
       "         0.        ,  0.        ,  1.        ,  0.        ,  0.        ,\n",
       "         0.        ,  0.        ,  0.        ,  1.        ,  0.        ,\n",
       "         0.        ,  0.        ,  1.        ,  0.        ,  0.86828708,\n",
       "         0.70668537, -0.07824578,  0.93619311,  1.21802627, -0.7380973 ,\n",
       "        -0.77501692, -0.95721982, -0.95862794, -0.93051376, -0.91543942]])"
      ]
     },
     "execution_count": 44,
     "metadata": {},
     "output_type": "execute_result"
    }
   ],
   "source": [
    "# Transform the DataFrame using the column transformer\n",
    "transformed_data = ct.transform(data.sample(1))\n",
    "transformed_data"
   ]
  },
  {
   "cell_type": "code",
   "execution_count": 45,
   "id": "233b5abd-9f05-45fb-8229-04ec87dfd254",
   "metadata": {
    "tags": []
   },
   "outputs": [
    {
     "data": {
      "text/plain": [
       "(1, 35)"
      ]
     },
     "execution_count": 45,
     "metadata": {},
     "output_type": "execute_result"
    }
   ],
   "source": [
    "transformed_data.shape"
   ]
  },
  {
   "cell_type": "code",
   "execution_count": 48,
   "id": "a35ea823-8e12-45ca-a821-ecc68abe9ea8",
   "metadata": {
    "tags": []
   },
   "outputs": [
    {
     "data": {
      "text/plain": [
       "[1773.8453]"
      ]
     },
     "execution_count": 48,
     "metadata": {},
     "output_type": "execute_result"
    }
   ],
   "source": [
    "prediction = rest_request(transformed_data.tolist())\n",
    "prediction"
   ]
  },
  {
   "cell_type": "code",
   "execution_count": null,
   "id": "87a26551-919e-4e5b-819d-4575a40ccc31",
   "metadata": {},
   "outputs": [],
   "source": []
  }
 ],
 "metadata": {
  "kernelspec": {
   "display_name": "Python 3.9",
   "language": "python",
   "name": "python3"
  },
  "language_info": {
   "codemirror_mode": {
    "name": "ipython",
    "version": 3
   },
   "file_extension": ".py",
   "mimetype": "text/x-python",
   "name": "python",
   "nbconvert_exporter": "python",
   "pygments_lexer": "ipython3",
   "version": "3.9.16"
  }
 },
 "nbformat": 4,
 "nbformat_minor": 5
}
